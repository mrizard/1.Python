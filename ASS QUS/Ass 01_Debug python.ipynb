{
 "cells": [
  {
   "cell_type": "code",
   "execution_count": 4,
   "id": "8e02775a",
   "metadata": {},
   "outputs": [
    {
     "name": "stdout",
     "output_type": "stream",
     "text": [
      "0\n",
      "1\n",
      "2\n",
      "3\n",
      "4\n"
     ]
    }
   ],
   "source": [
    "#1.Find the error in the following Python code:\n",
    "\n",
    "# for i in range(5)\n",
    "   # print(i)\n",
    "\n",
    "# Answer :\n",
    "for i in range(5):\n",
    "    print(i)"
   ]
  },
  {
   "cell_type": "code",
   "execution_count": 6,
   "id": "df3cee51",
   "metadata": {},
   "outputs": [
    {
     "name": "stdout",
     "output_type": "stream",
     "text": [
      "15\n"
     ]
    }
   ],
   "source": [
    "#2.What will be the output of this code?\n",
    "# a = 10\n",
    "# b = \"5\"\n",
    "# print(a + b)\n",
    "\n",
    "# Answer :\n",
    "# convert (b) to an integer\n",
    "a = 10\n",
    "b = \"5\"\n",
    "print(a + int(b)) "
   ]
  },
  {
   "cell_type": "code",
   "execution_count": 8,
   "id": "15c2e7b2",
   "metadata": {},
   "outputs": [],
   "source": [
    "#3.What is the issue in this Python snippet?\n",
    "\n",
    "# def add_numbers(a, b)\n",
    "   # return a + b\n",
    "# Answer: - missing a colon (:) at the end of the function [after (a, b)]\n",
    "def add_numbers(a, b):\n",
    "    return a + b"
   ]
  },
  {
   "cell_type": "code",
   "execution_count": 9,
   "id": "2f8e5efd",
   "metadata": {},
   "outputs": [
    {
     "name": "stdout",
     "output_type": "stream",
     "text": [
      "4\n"
     ]
    }
   ],
   "source": [
    "#4.Identify the bug in the following Python code:\n",
    "\n",
    " # numbers = [1, 2, 3, 4]\n",
    "# print(numbers[4])\n",
    "\n",
    "# Answer: numbers[4] is trying to access the fifth element, which is out of range\n",
    "numbers = [1, 2, 3, 4]\n",
    "print(numbers[3])"
   ]
  },
  {
   "cell_type": "code",
   "execution_count": 10,
   "id": "bc0080c1",
   "metadata": {},
   "outputs": [
    {
     "name": "stdout",
     "output_type": "stream",
     "text": [
      "Hello, World!\n"
     ]
    }
   ],
   "source": [
    "#5.Find the error in the following Python code:\n",
    "# print \"Hello, World!\"\n",
    "\n",
    "# Answer: Missing parentheses \n",
    "print(\"Hello, World!\")"
   ]
  },
  {
   "cell_type": "code",
   "execution_count": 11,
   "id": "5b449ecb",
   "metadata": {},
   "outputs": [],
   "source": [
    "#6.Find the error in the following Python code:\n",
    "# x = 5 / 0\n",
    "# Answer: Python tries to divide 5 by 0, which is mathematically undefined. As a result, it throws this runtime error:\n",
    "# ZeroDivisionError: division by zero\n",
    "\n",
    "# Fixed Code:\n",
    "x = 5 / 1  # or use a conditional check before division"
   ]
  },
  {
   "cell_type": "code",
   "execution_count": 8,
   "id": "79260565",
   "metadata": {},
   "outputs": [
    {
     "name": "stdout",
     "output_type": "stream",
     "text": [
      "Name: Alice, Age: 25\n"
     ]
    }
   ],
   "source": [
    "#7.Find the error in the following Python code.\n",
    "# name = \"Alice\"\n",
    "# age = 25\n",
    "# print(\"Name: \" + name + \", Age: \" + age)\n",
    "\n",
    "#Answer: \n",
    "# Python doesn't allow direct concatenation of strings and integers using the + operator.\n",
    "# Need to convert age to a string before concatenating. \n",
    "name = \"Alice\"\n",
    "age = 25\n",
    "print(\"Name: \" + name + \", Age: \" + str(age))"
   ]
  },
  {
   "cell_type": "code",
   "execution_count": 9,
   "id": "3e4b6f3b",
   "metadata": {},
   "outputs": [
    {
     "name": "stdout",
     "output_type": "stream",
     "text": [
      "10\n",
      "9\n",
      "8\n",
      "7\n",
      "6\n",
      "5\n",
      "4\n",
      "3\n",
      "2\n"
     ]
    }
   ],
   "source": [
    "#8.Find the error\n",
    "# for i in range(1, 10, -1):\n",
    "#    print(i)\n",
    "\n",
    "#Answer: \n",
    "# range(1, 10, -1) means: start at 1, stop before reaching 10, and step backwards.\n",
    "# If we want to count downward, start value must be greater than our stop value. \n",
    "\n",
    "for i in range(10, 1, -1):\n",
    "    print(i)"
   ]
  },
  {
   "cell_type": "code",
   "execution_count": 11,
   "id": "95976c4d",
   "metadata": {},
   "outputs": [],
   "source": [
    "#9. Find the error in the following Python code:\n",
    "# x = 10\n",
    "# if x = 5:\n",
    "#    print(\"x is 5\")\n",
    "\n",
    "# Answer: \n",
    "# In Python, = is used for assignment, not comparison.\n",
    "# Inside an if statement, we are trying to compare x to 5, so we need to use ==.\n",
    "\n",
    "x = 10\n",
    "if x == 5:\n",
    "    print(\"x is 5\")"
   ]
  },
  {
   "cell_type": "code",
   "execution_count": 13,
   "id": "317eca50",
   "metadata": {},
   "outputs": [],
   "source": [
    "#10. Identify the error in the following function definition:\n",
    "\n",
    "# def greet(name)\n",
    "#   print(\"Hello, \" + name)\n",
    "\n",
    "#Answer: \n",
    "# The function header is missing a colon (:) at the end of the def line.\n",
    "# In Python, every function definition must end with a colon to indicate the start of the function body.\n",
    "\n",
    "def greet(name):\n",
    "    print(\"Hello, \" + name)"
   ]
  }
 ],
 "metadata": {
  "kernelspec": {
   "display_name": "Python 3 (ipykernel)",
   "language": "python",
   "name": "python3"
  },
  "language_info": {
   "codemirror_mode": {
    "name": "ipython",
    "version": 3
   },
   "file_extension": ".py",
   "mimetype": "text/x-python",
   "name": "python",
   "nbconvert_exporter": "python",
   "pygments_lexer": "ipython3",
   "version": "3.11.5"
  }
 },
 "nbformat": 4,
 "nbformat_minor": 5
}
