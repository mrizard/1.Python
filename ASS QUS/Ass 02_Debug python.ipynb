{
 "cells": [
  {
   "cell_type": "code",
   "execution_count": 2,
   "id": "d6b7b6f4",
   "metadata": {},
   "outputs": [
    {
     "name": "stdout",
     "output_type": "stream",
     "text": [
      "4.0\n"
     ]
    }
   ],
   "source": [
    "#1.Find the error in the following Python code:\n",
    "# import math\n",
    "# print(Math.sqrt(16))\n",
    "\n",
    "#Answer:\n",
    "# Python is case-sensitive, and we're calling Math.sqrt(16) with a capital M.\n",
    "# But we imported the module as math (lowercase), so Math is undefined.\n",
    "   \n",
    "import math\n",
    "print(math.sqrt(16))"
   ]
  },
  {
   "cell_type": "code",
   "execution_count": 4,
   "id": "bb110ac4",
   "metadata": {},
   "outputs": [
    {
     "name": "stdout",
     "output_type": "stream",
     "text": [
      "15\n"
     ]
    }
   ],
   "source": [
    "#2.Find the error in the following Python code:\n",
    "# def my_function():\n",
    "#   x += 5\n",
    "#   print(x)\n",
    "\n",
    "# x = 10\n",
    "# my_function()\n",
    "\n",
    "# Answer:\n",
    "# x is modified inside the function without being declared as global.\n",
    "# Use the global keyword\n",
    "\n",
    "def my_function():\n",
    "    global x\n",
    "    x += 5\n",
    "    print(x)\n",
    "\n",
    "x = 10\n",
    "my_function()"
   ]
  },
  {
   "cell_type": "code",
   "execution_count": 6,
   "id": "9555dad2",
   "metadata": {},
   "outputs": [],
   "source": [
    "# 3. x = 5\n",
    "# if x = 10:\n",
    "#   print(\"x is 10\")\n",
    "\n",
    "#Answer:\n",
    "# = is an assignment operator, == is needed for comparison.\n",
    "\n",
    "x = 5\n",
    "if x == 10:\n",
    "    print(\"x is 10\")"
   ]
  },
  {
   "cell_type": "code",
   "execution_count": 7,
   "id": "dc3096ff",
   "metadata": {},
   "outputs": [
    {
     "name": "stdout",
     "output_type": "stream",
     "text": [
      "[2, 3, 5, 8]\n"
     ]
    }
   ],
   "source": [
    "#4.\n",
    "# numbers = [5, 3, 8, 2]\n",
    "# print(numbers.sort())\n",
    "\n",
    "# Answer:\n",
    "# numbers.sort() sorts the list in place and returns None.\n",
    "# So when we try to print(numbers.sort()), actually printing None.\n",
    "# Sort first, then print\n",
    "\n",
    "numbers = [5, 3, 8, 2]\n",
    "numbers.sort()\n",
    "print(numbers)"
   ]
  },
  {
   "cell_type": "code",
   "execution_count": 8,
   "id": "f7bcdd3d",
   "metadata": {},
   "outputs": [
    {
     "name": "stdout",
     "output_type": "stream",
     "text": [
      "16\n"
     ]
    }
   ],
   "source": [
    "#5.\n",
    "# def square(n):\n",
    "#   n * n\n",
    "\n",
    "# print(square(4))\n",
    "\n",
    "#Answer:\n",
    "# The function square(n) performs the calculation n * n, but it doesn't return the result.\n",
    "# In Python, if a function doesn't explicitly return a value, it returns None by default.\n",
    "# So print(square(4)) will output None.\n",
    "\n",
    "def square(n):\n",
    "    return n * n\n",
    "\n",
    "print(square(4))"
   ]
  },
  {
   "cell_type": "code",
   "execution_count": 11,
   "id": "0eb6471f",
   "metadata": {},
   "outputs": [
    {
     "name": "stdout",
     "output_type": "stream",
     "text": [
      "(1, 5, 3)\n"
     ]
    }
   ],
   "source": [
    "#6.\n",
    "# my_tuple = (1, 2, 3)\n",
    "# my_tuple[1] = 5\n",
    "\n",
    "# Answer:\n",
    "# Tuples in Python are immutable, meaning their elements cannot be changed once the tuple is created.\n",
    "# want to \"change\" a value, we can create a new tuple:\n",
    "\n",
    "my_tuple = (1, 2, 3)\n",
    "new_tuple = my_tuple[:1] + (5,) + my_tuple[2:]\n",
    "print(new_tuple) "
   ]
  },
  {
   "cell_type": "code",
   "execution_count": 13,
   "id": "0922b838",
   "metadata": {},
   "outputs": [
    {
     "name": "stdout",
     "output_type": "stream",
     "text": [
      "My name is Alice and I am 25 years old\n"
     ]
    }
   ],
   "source": [
    "#7.\n",
    "# name = \"Alice\"\n",
    "# age = 25\n",
    "# print(\"My name is %s and I am %d years old\" % (name))\n",
    "\n",
    "# Answer:\n",
    "\n",
    "# Using two format specifiers: %s for the name and %d for the age.\n",
    "# But here passing only one value (name) to the formatting operation.\n",
    "# Python expects a tuple with two values to match the two placeholders.\n",
    "\n",
    "name = \"Alice\"\n",
    "age  = 25\n",
    "print(\"My name is %s and I am %d years old\" % (name, age))"
   ]
  },
  {
   "cell_type": "code",
   "execution_count": 14,
   "id": "9f83bddf",
   "metadata": {},
   "outputs": [
    {
     "name": "stdout",
     "output_type": "stream",
     "text": [
      "Lists are equal\n"
     ]
    }
   ],
   "source": [
    "#8.\n",
    "# a = [1, 2, 3]\n",
    "# b = [1, 2, 3]\n",
    "# if a is b:\n",
    "#    print(\"Lists are equal\")\n",
    "\n",
    "# Answer:\n",
    "\n",
    "# Even though a and b contain the same elements, they are two separate list objects, so a is b will return False.\n",
    "# Use the == operator to compare the values inside the lists:\n",
    "\n",
    "a = [1, 2, 3]\n",
    "b = [1, 2, 3]\n",
    "if a == b:\n",
    "    print(\"Lists are equal\")"
   ]
  },
  {
   "cell_type": "code",
   "execution_count": 16,
   "id": "5ce21be8",
   "metadata": {},
   "outputs": [
    {
     "name": "stdout",
     "output_type": "stream",
     "text": [
      "5\n",
      "4\n",
      "3\n",
      "2\n"
     ]
    }
   ],
   "source": [
    "#9.\n",
    "# for i in range(5, 1):\n",
    "#    print(i)\n",
    "\n",
    "# Answer:\n",
    "\n",
    "# Here try to count downward from 5 to 1.\n",
    "# But range(5, 1) by default uses a positive step of 1, which means it tries to count upward from 5 to 1.\n",
    "# Since 5 is already greater than 1, the range is empty and the loop doesn't run at all.\n",
    "# If want to count downward, need to specify a negative step.\n",
    "\n",
    "for i in range(5, 1, -1):  \n",
    "    print(i)"
   ]
  },
  {
   "cell_type": "code",
   "execution_count": 17,
   "id": "83d119d7",
   "metadata": {},
   "outputs": [
    {
     "name": "stdout",
     "output_type": "stream",
     "text": [
      "John\n"
     ]
    }
   ],
   "source": [
    "#10.\n",
    "# student = {\"name\": \"John\", \"age\": 20}\n",
    "# print(student[name])\n",
    "\n",
    "# Answer:\n",
    "\n",
    "# Here referencing name without quotes, so Python treats it as a variable, not a dictionary key.\n",
    "# Since name hasn't been defined as a variable, this will raise a NameError.\n",
    "# If want to access the \"name\" key from the dictionary, use quotes.\n",
    "\n",
    "\n",
    "student = {\"name\": \"John\", \"age\": 20}\n",
    "print(student[\"name\"])"
   ]
  }
 ],
 "metadata": {
  "kernelspec": {
   "display_name": "Python 3 (ipykernel)",
   "language": "python",
   "name": "python3"
  },
  "language_info": {
   "codemirror_mode": {
    "name": "ipython",
    "version": 3
   },
   "file_extension": ".py",
   "mimetype": "text/x-python",
   "name": "python",
   "nbconvert_exporter": "python",
   "pygments_lexer": "ipython3",
   "version": "3.11.5"
  }
 },
 "nbformat": 4,
 "nbformat_minor": 5
}
