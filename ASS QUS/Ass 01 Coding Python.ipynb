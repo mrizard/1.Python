{
 "cells": [
  {
   "cell_type": "code",
   "execution_count": 6,
   "id": "5fd5c475",
   "metadata": {},
   "outputs": [
    {
     "name": "stdout",
     "output_type": "stream",
     "text": [
      "1 2 3 4 5 "
     ]
    }
   ],
   "source": [
    "# 1.Write a Python program that prints numbers from 1 to 5.\n",
    "# Expected Output:\n",
    "# 1 2 3 4 5\n",
    "\n",
    "for i in range(1, 6):\n",
    "    print (i, end=' ')"
   ]
  },
  {
   "cell_type": "code",
   "execution_count": 7,
   "id": "3c8bc472",
   "metadata": {},
   "outputs": [
    {
     "name": "stdout",
     "output_type": "stream",
     "text": [
      "2 4 6 8 10 "
     ]
    }
   ],
   "source": [
    "# 2.Write a Python program to print the first 5 even numbers. \n",
    "# Expected Output:\n",
    "# 2 4 6 8 10\n",
    "\n",
    "for i in range(2, 11, 2):\n",
    "    print (i, end=' ')"
   ]
  },
  {
   "cell_type": "code",
   "execution_count": 8,
   "id": "5e7af211",
   "metadata": {},
   "outputs": [
    {
     "name": "stdout",
     "output_type": "stream",
     "text": [
      "55\n"
     ]
    }
   ],
   "source": [
    "# 3.Write a Python program to print the sum of numbers from 1 to 10. \n",
    "# Expected Output:55\n",
    "\n",
    "print(sum(range(1, 11)))"
   ]
  },
  {
   "cell_type": "code",
   "execution_count": 10,
   "id": "ac09aa1a",
   "metadata": {},
   "outputs": [
    {
     "name": "stdout",
     "output_type": "stream",
     "text": [
      "120\n"
     ]
    }
   ],
   "source": [
    "# 4.Write a Python function to find the factorial of 5. \n",
    "# Expected Output:120\n",
    "\n",
    "def factorial(n):\n",
    "    result = 1\n",
    "    for i in range(2, n+1):\n",
    "        result *= i\n",
    "    return result\n",
    "print(factorial(5))"
   ]
  },
  {
   "cell_type": "code",
   "execution_count": 11,
   "id": "8ab9fc8a",
   "metadata": {},
   "outputs": [
    {
     "name": "stdout",
     "output_type": "stream",
     "text": [
      "7 is a prime number\n"
     ]
    }
   ],
   "source": [
    "# 5.Write a Python program to check if a number is prime. \n",
    "# Expected Output (for input 7):\n",
    "# 7 is a prime number\n",
    "\n",
    "def is_prime(n):\n",
    "    if n < 2:\n",
    "        return False\n",
    "    for i in range(2, int(n ** 0.5) + 1):\n",
    "        if n % i == 0:\n",
    "            return False\n",
    "    return True\n",
    "\n",
    "num = 7\n",
    "if is_prime(num):\n",
    "    print(f\"{num} is a prime number\")\n",
    "else:\n",
    "    print(f\"{num} is not a prime number\")"
   ]
  },
  {
   "cell_type": "code",
   "execution_count": null,
   "id": "148fd01a-0de2-4da1-8887-63d07c04fa86",
   "metadata": {},
   "outputs": [],
   "source": []
  }
 ],
 "metadata": {
  "kernelspec": {
   "display_name": "Python 3 (ipykernel)",
   "language": "python",
   "name": "python3"
  },
  "language_info": {
   "codemirror_mode": {
    "name": "ipython",
    "version": 3
   },
   "file_extension": ".py",
   "mimetype": "text/x-python",
   "name": "python",
   "nbconvert_exporter": "python",
   "pygments_lexer": "ipython3",
   "version": "3.11.5"
  }
 },
 "nbformat": 4,
 "nbformat_minor": 5
}
