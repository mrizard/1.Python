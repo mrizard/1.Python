{
 "cells": [
  {
   "cell_type": "code",
   "execution_count": 9,
   "metadata": {},
   "outputs": [],
   "source": [
    "def Subfields():\n",
    "    subfields = ['Sub-fields in AI are:','Machine Learning', 'Neural Networks', 'Vision', 'Robotics', 'Speech Processing', 'Natural Language Processing']\n",
    "    for subfield in subfields:\n",
    "        print(subfield)"
   ]
  },
  {
   "cell_type": "code",
   "execution_count": 10,
   "metadata": {},
   "outputs": [
    {
     "name": "stdout",
     "output_type": "stream",
     "text": [
      "Sub-fields in AI are:\n",
      "Machine Learning\n",
      "Neural Networks\n",
      "Vision\n",
      "Robotics\n",
      "Speech Processing\n",
      "Natural Language Processing\n"
     ]
    }
   ],
   "source": [
    "Subfields()"
   ]
  },
  {
   "cell_type": "code",
   "execution_count": 3,
   "metadata": {},
   "outputs": [],
   "source": [
    "def OddEven():\n",
    "    num=int(input(\"Enter a Number: \"))\n",
    "    if((num%2==1)):\n",
    "        print(num,\"is Odd Number\")\n",
    "        message=\"is Odd Number\"\n",
    "    else:\n",
    "        print(num,\"is Even Number\")\n",
    "        message=\"is Even Number\"\n",
    "    return message"
   ]
  },
  {
   "cell_type": "code",
   "execution_count": 11,
   "metadata": {},
   "outputs": [
    {
     "name": "stdout",
     "output_type": "stream",
     "text": [
      "Enter a Number: 4\n",
      "4 is Even Number\n"
     ]
    },
    {
     "data": {
      "text/plain": [
       "'is Even Number'"
      ]
     },
     "execution_count": 11,
     "metadata": {},
     "output_type": "execute_result"
    }
   ],
   "source": [
    "OddEven()"
   ]
  },
  {
   "cell_type": "code",
   "execution_count": 39,
   "metadata": {},
   "outputs": [],
   "source": [
    "def Elegible():\n",
    "    gender=input(\"Your Gender: \")\n",
    "    num=int(input(\"Your Age: \"))\n",
    "    if gender==\"Male\"and(num<=20):\n",
    "        print(\"NOT ELEGIBLE\")\n",
    "        message=\"NOT ELEGIBLE\"\n",
    "    elif gender==\"Female\"and(num<=17):\n",
    "        print(\"NOT ELEGIBLE\")\n",
    "    else:\n",
    "        print(\"ELEGIBLE\")\n",
    "        message=\"ELEGIBLE\"\n",
    "    return message"
   ]
  },
  {
   "cell_type": "code",
   "execution_count": 42,
   "metadata": {},
   "outputs": [
    {
     "name": "stdout",
     "output_type": "stream",
     "text": [
      "Your Gender: Male\n",
      "Your Age: 20\n",
      "NOT ELEGIBLE\n"
     ]
    },
    {
     "data": {
      "text/plain": [
       "'NOT ELEGIBLE'"
      ]
     },
     "execution_count": 42,
     "metadata": {},
     "output_type": "execute_result"
    }
   ],
   "source": [
    "Elegible()"
   ]
  },
  {
   "cell_type": "code",
   "execution_count": 85,
   "metadata": {},
   "outputs": [],
   "source": [
    "def Percentage():\n",
    "    subject1 = int(input(\"Subject 1: \"))\n",
    "    subject2 = int(input(\"Subject 2: \"))\n",
    "    subject3 = int(input(\"Subject 3: \"))\n",
    "    subject4 = int(input(\"Subject 4: \"))\n",
    "    subject5 = int(input(\"Subject 5: \"))\n",
    "\n",
    "    total = subject1 + subject2 + subject3 + subject4 + subject5\n",
    "    percentage = total / 5 \n",
    "    print(\"Total   :\", total)\n",
    "    print(\"Percentage : {:.15f}\".format(percentage))"
   ]
  },
  {
   "cell_type": "code",
   "execution_count": 86,
   "metadata": {},
   "outputs": [
    {
     "name": "stdout",
     "output_type": "stream",
     "text": [
      "Subject 1: 23\n",
      "Subject 2: 45\n",
      "Subject 3: 34\n",
      "Subject 4: 23\n",
      "Subject 5: 23\n",
      "Total   : 148\n",
      "Percentage : 29.600000000000001\n"
     ]
    }
   ],
   "source": [
    "Percentage()"
   ]
  },
  {
   "cell_type": "code",
   "execution_count": 100,
   "metadata": {},
   "outputs": [],
   "source": [
    "def triangle():\n",
    "    Height = int(input(\"Height: \"))\n",
    "    Breadth = int(input(\"Breadth: \"))\n",
    "    area = (Height * Breadth) / 2\n",
    "    print(\"Area of Triangle:\", area)\n",
    "    \n",
    "    Height1 = int(input(\"Height1: \"))\n",
    "    Height2 = int(input(\"Height2: \"))\n",
    "    Breadth = int(input(\"Breadth: \"))\n",
    "    perimeter = Height1 + Height2 + Breadth\n",
    "    print(\"Perimeter of Triangle:\", perimeter)\n",
    "    \n",
    "    return area, perimeter"
   ]
  },
  {
   "cell_type": "code",
   "execution_count": 101,
   "metadata": {},
   "outputs": [
    {
     "name": "stdout",
     "output_type": "stream",
     "text": [
      "Height: 32\n",
      "Breadth: 34\n",
      "Area of Triangle: 544.0\n",
      "Height1: 2\n",
      "Height2: 4\n",
      "Breadth: 4\n",
      "Perimeter of Triangle: 10\n"
     ]
    },
    {
     "data": {
      "text/plain": [
       "(544.0, 10)"
      ]
     },
     "execution_count": 101,
     "metadata": {},
     "output_type": "execute_result"
    }
   ],
   "source": [
    "triangle()"
   ]
  },
  {
   "cell_type": "code",
   "execution_count": null,
   "metadata": {},
   "outputs": [],
   "source": []
  }
 ],
 "metadata": {
  "kernelspec": {
   "display_name": "Python 3",
   "language": "python",
   "name": "python3"
  },
  "language_info": {
   "codemirror_mode": {
    "name": "ipython",
    "version": 3
   },
   "file_extension": ".py",
   "mimetype": "text/x-python",
   "name": "python",
   "nbconvert_exporter": "python",
   "pygments_lexer": "ipython3",
   "version": "3.7.4"
  }
 },
 "nbformat": 4,
 "nbformat_minor": 2
}
