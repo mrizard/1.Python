{
 "cells": [
  {
   "cell_type": "code",
   "execution_count": 2,
   "metadata": {},
   "outputs": [],
   "source": [
    "class SubfieldsInAI:\n",
    "    def Subfields():\n",
    "        subfields = ['Sub-fields in AI are:','Machine Learning', 'Neural Networks', 'Vision', 'Robotics', 'Speech Processing', 'Natural Language Processing']\n",
    "        for subfield in subfields:\n",
    "            print(subfield)"
   ]
  },
  {
   "cell_type": "code",
   "execution_count": 3,
   "metadata": {},
   "outputs": [
    {
     "name": "stdout",
     "output_type": "stream",
     "text": [
      "Sub-fields in AI are:\n",
      "Machine Learning\n",
      "Neural Networks\n",
      "Vision\n",
      "Robotics\n",
      "Speech Processing\n",
      "Natural Language Processing\n"
     ]
    }
   ],
   "source": [
    "SubfieldsInAI.Subfields()"
   ]
  },
  {
   "cell_type": "code",
   "execution_count": 7,
   "metadata": {},
   "outputs": [],
   "source": [
    "class OddEven:\n",
    "    def OddEven():\n",
    "        num=int(input(\"Enter a Number: \"))\n",
    "        if((num%2==1)):\n",
    "            print(num,\"is Odd Number\")\n",
    "            message=\"is Odd Number\"\n",
    "        else:\n",
    "            print(num,\"is Even Number\")\n",
    "            message=\"is Even Number\"\n",
    "        return message"
   ]
  },
  {
   "cell_type": "code",
   "execution_count": 8,
   "metadata": {},
   "outputs": [
    {
     "name": "stdout",
     "output_type": "stream",
     "text": [
      "Enter a Number: 52452\n",
      "52452 is Even Number\n"
     ]
    },
    {
     "data": {
      "text/plain": [
       "'is Even Number'"
      ]
     },
     "execution_count": 8,
     "metadata": {},
     "output_type": "execute_result"
    }
   ],
   "source": [
    "OddEven.OddEven()"
   ]
  },
  {
   "cell_type": "code",
   "execution_count": 16,
   "metadata": {},
   "outputs": [],
   "source": [
    "class EligibilityForMarriage:\n",
    "    def Elegible():\n",
    "        gender=input(\"Your Gender: \")\n",
    "        num=int(input(\"Your Age: \"))\n",
    "        if ((num>=21)and gender==\"Male\"):\n",
    "            print(\"ELEGIBLE\")\n",
    "            message=\"ELEGIBLE\"\n",
    "        elif ((num>=18)and gender==\"Female\"):\n",
    "            print(\"ELEGIBLE\")\n",
    "        else:\n",
    "            print(\"NOT ELEGIBLE\")\n",
    "            message=\"NOT ELEGIBLE\"\n",
    "        return message"
   ]
  },
  {
   "cell_type": "code",
   "execution_count": 17,
   "metadata": {},
   "outputs": [
    {
     "name": "stdout",
     "output_type": "stream",
     "text": [
      "Your Gender: Male\n",
      "Your Age: 20\n",
      "NOT ELEGIBLE\n"
     ]
    },
    {
     "data": {
      "text/plain": [
       "'NOT ELEGIBLE'"
      ]
     },
     "execution_count": 17,
     "metadata": {},
     "output_type": "execute_result"
    }
   ],
   "source": [
    "EligibilityForMarriage.Elegible()"
   ]
  },
  {
   "cell_type": "code",
   "execution_count": 20,
   "metadata": {},
   "outputs": [],
   "source": [
    "class FindPercent:\n",
    "    def Percentage():\n",
    "        subject1 = int(input(\"Subject 1: \"))\n",
    "        subject2 = int(input(\"Subject 2: \"))\n",
    "        subject3 = int(input(\"Subject 3: \"))\n",
    "        subject4 = int(input(\"Subject 4: \"))\n",
    "        subject5 = int(input(\"Subject 5: \"))\n",
    "\n",
    "        total = subject1 + subject2 + subject3 + subject4 + subject5\n",
    "        percentage = total / 5 \n",
    "        print(\"Total   :\", total)\n",
    "        print(\"Percentage : {:.15f}\".format(percentage))"
   ]
  },
  {
   "cell_type": "code",
   "execution_count": 21,
   "metadata": {},
   "outputs": [
    {
     "name": "stdout",
     "output_type": "stream",
     "text": [
      "Subject 1: 98\n",
      "Subject 2: 87\n",
      "Subject 3: 95\n",
      "Subject 4: 95\n",
      "Subject 5: 93\n",
      "Total   : 468\n",
      "Percentage : 93.599999999999994\n"
     ]
    }
   ],
   "source": [
    "FindPercent.Percentage()"
   ]
  },
  {
   "cell_type": "code",
   "execution_count": 22,
   "metadata": {},
   "outputs": [],
   "source": [
    "class triangle:\n",
    "    def triangle():\n",
    "        Height = int(input(\"Height: \"))\n",
    "        Breadth = int(input(\"Breadth: \"))\n",
    "        area = (Height * Breadth) / 2\n",
    "        print(\"Area of Triangle:\", area)\n",
    "    \n",
    "        Height1 = int(input(\"Height1: \"))\n",
    "        Height2 = int(input(\"Height2: \"))\n",
    "        Breadth = int(input(\"Breadth: \"))\n",
    "        perimeter = Height1 + Height2 + Breadth\n",
    "        print(\"Perimeter of Triangle:\", perimeter)\n",
    "    \n",
    "        return area, perimeter"
   ]
  },
  {
   "cell_type": "code",
   "execution_count": 23,
   "metadata": {},
   "outputs": [
    {
     "name": "stdout",
     "output_type": "stream",
     "text": [
      "Height: 32\n",
      "Breadth: 34\n",
      "Area of Triangle: 544.0\n",
      "Height1: 2\n",
      "Height2: 4\n",
      "Breadth: 4\n",
      "Perimeter of Triangle: 10\n"
     ]
    },
    {
     "data": {
      "text/plain": [
       "(544.0, 10)"
      ]
     },
     "execution_count": 23,
     "metadata": {},
     "output_type": "execute_result"
    }
   ],
   "source": [
    "triangle.triangle()"
   ]
  }
 ],
 "metadata": {
  "kernelspec": {
   "display_name": "Python 3",
   "language": "python",
   "name": "python3"
  },
  "language_info": {
   "codemirror_mode": {
    "name": "ipython",
    "version": 3
   },
   "file_extension": ".py",
   "mimetype": "text/x-python",
   "name": "python",
   "nbconvert_exporter": "python",
   "pygments_lexer": "ipython3",
   "version": "3.7.4"
  }
 },
 "nbformat": 4,
 "nbformat_minor": 2
}
